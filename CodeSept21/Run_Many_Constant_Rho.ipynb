{
 "cells": [
  {
   "cell_type": "code",
   "execution_count": 1,
   "id": "b3fb9163",
   "metadata": {},
   "outputs": [],
   "source": [
    "import constant_rho_two\n",
    "import datetime"
   ]
  },
  {
   "cell_type": "code",
   "execution_count": 2,
   "id": "de2ae09c",
   "metadata": {},
   "outputs": [],
   "source": [
    "rho_choices = list(map(lambda x: x*-0.03, range(6)))\n",
    "mu_4_choices = [0, 1]\n",
    "all_choices = [\n",
    "    (rho_choice, mu_4_choice)\n",
    "    for mu_4_choice in mu_4_choices\n",
    "    for rho_choice in rho_choices\n",
    "]"
   ]
  },
  {
   "cell_type": "code",
   "execution_count": 3,
   "id": "3e88ac90",
   "metadata": {},
   "outputs": [
    {
     "data": {
      "text/plain": [
       "[(-0.0, 0),\n",
       " (-0.03, 0),\n",
       " (-0.06, 0),\n",
       " (-0.09, 0),\n",
       " (-0.12, 0),\n",
       " (-0.15, 0),\n",
       " (-0.0, 1),\n",
       " (-0.03, 1),\n",
       " (-0.06, 1),\n",
       " (-0.09, 1),\n",
       " (-0.12, 1),\n",
       " (-0.15, 1)]"
      ]
     },
     "execution_count": 3,
     "metadata": {},
     "output_type": "execute_result"
    }
   ],
   "source": [
    "all_choices"
   ]
  },
  {
   "cell_type": "code",
   "execution_count": 4,
   "id": "bca35ffe",
   "metadata": {},
   "outputs": [],
   "source": [
    "all_choices = all_choices[8:9]"
   ]
  },
  {
   "cell_type": "code",
   "execution_count": 5,
   "id": "417c1677",
   "metadata": {},
   "outputs": [
    {
     "data": {
      "text/plain": [
       "[(-0.06, 1)]"
      ]
     },
     "execution_count": 5,
     "metadata": {},
     "output_type": "execute_result"
    }
   ],
   "source": [
    "all_choices"
   ]
  },
  {
   "cell_type": "code",
   "execution_count": 6,
   "id": "d34dfe7e",
   "metadata": {},
   "outputs": [],
   "source": [
    "import os, sys\n",
    "\n",
    "class HiddenPrints:\n",
    "    def __enter__(self):\n",
    "        self._original_stdout = sys.stdout\n",
    "        sys.stdout = open(os.devnull, 'w')\n",
    "\n",
    "    def __exit__(self , exc_type, exc_val, exc_tb):\n",
    "        sys.stdout.close()\n",
    "        sys.stdout = self._original_stdout"
   ]
  },
  {
   "cell_type": "code",
   "execution_count": 7,
   "id": "df9fed2c",
   "metadata": {},
   "outputs": [
    {
     "name": "stdout",
     "output_type": "stream",
     "text": [
      "-0.06 1\n",
      "2021-09-07 23:43:06.822236\n"
     ]
    }
   ],
   "source": [
    "for rho_choice, mu_4_choice in all_choices:\n",
    "    print(rho_choice, mu_4_choice)\n",
    "    print(datetime.datetime.now())\n",
    "    with HiddenPrints():\n",
    "        constant_rho_two.run(experiment_name=\"8_31_no_skip\",\n",
    "                             rho_test=rho_choice, \n",
    "                             power_test_or_bootstrap_choice=0, \n",
    "                             mu_4_choice=mu_4_choice, # 0 is simple, 1 is hard\n",
    "                             skip_estimating_fhat=False,\n",
    "                             enable_one_hot=True)"
   ]
  },
  {
   "cell_type": "code",
   "execution_count": null,
   "id": "5884fdae",
   "metadata": {},
   "outputs": [],
   "source": []
  },
  {
   "cell_type": "code",
   "execution_count": null,
   "id": "6a50f109",
   "metadata": {},
   "outputs": [],
   "source": []
  },
  {
   "cell_type": "code",
   "execution_count": 8,
   "id": "0378aaaa",
   "metadata": {},
   "outputs": [],
   "source": [
    "# foR SERGUEI\n",
    "# run one\n",
    "rho_test = 0.00\n",
    "mu_4_choice = 0 # 0 is simple, 1 is hard\n",
    "#constant_rho_two.run(rho_test, 0, mu_4_choice)\n"
   ]
  }
 ],
 "metadata": {
  "kernelspec": {
   "display_name": "Python 3",
   "language": "python",
   "name": "python3"
  },
  "language_info": {
   "codemirror_mode": {
    "name": "ipython",
    "version": 3
   },
   "file_extension": ".py",
   "mimetype": "text/x-python",
   "name": "python",
   "nbconvert_exporter": "python",
   "pygments_lexer": "ipython3",
   "version": "3.9.5"
  }
 },
 "nbformat": 4,
 "nbformat_minor": 5
}
