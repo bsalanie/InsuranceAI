{
 "cells": [
  {
   "cell_type": "code",
   "execution_count": null,
   "metadata": {},
   "outputs": [],
   "source": [
    "# #| hide\n",
    "# from InsuranceAI.core import *"
   ]
  },
  {
   "cell_type": "markdown",
   "metadata": {},
   "source": [
    "# InsuranceAI\n",
    "\n",
    "> Testing for Asymmetric Information in Insurance with Deep Learning"
   ]
  },
  {
   "cell_type": "code",
   "execution_count": null,
   "metadata": {},
   "outputs": [],
   "source": [
    "#| default_exp InsuranceAI\n",
    "%load_ext autoreload\n",
    "%autoreload 2"
   ]
  },
  {
   "cell_type": "code",
   "execution_count": null,
   "metadata": {},
   "outputs": [],
   "source": [
    "from pathlib import Path\n",
    "import pandas as pd"
   ]
  },
  {
   "cell_type": "markdown",
   "metadata": {},
   "source": [
    "We start by loading the dataset from the FFSA 1989 survey --- only beginning drivers. The data has 6,333 insurees. Each observation has 58 variables:\n",
    "\n",
    "0. (AG25) whether the insuree is below 25 (1) or not (2)\n",
    "1. (AGE) the age of the insuree in years\n",
    "2. (AGEC) the age of the driver in years (9 if the driver was the insuree)\n",
    "3. (ALLE) German car: 1 yes, 0 no\n",
    "4. (AMER) American car: 1 yes, 0 no\n",
    "5. (ANCC) how old the driver license is (1 for less than 3, 2 for more, 9 incomplete, 0 missing)\n",
    "6. (CFDO) the nature of the deductible (1 fixed, 2 proportional, 0 no deductible)\n",
    "7. (CFVO) whether the theft guarantee comes with a deductible (1 yes, 2 no, 9 not insured against theft)\n",
    "8. (CGAR) compulsory insurance (0 is basic, 1 with theft, 2 with fire, 3 =1+2, 4 with windows, 5=1+4, 6=2+4, 7=1+2+4)\n",
    "9. (CGDO) comprehensive insurance (0 none, 1 no deductible, 2 with deductible except if collision, 3 with deductible always, 4 others)\n",
    "10. (CIDA) percentage at fault for claims smaller than 25,000FF: 0 = 0%, 1=25%, 2=50%, 3=75%, 4=100%, 9=incomplete, 99=missing.\n",
    "11. (CITR) Citroën car: 1 yes, 0 no\n",
    "12. (CODC) driver is the insured (1 yes, 2 no, 9 ncomplete, 0 missing)\n",
    "13. (CODE) accident (0 if none, 30+ if an accident)\n",
    "14. (CRES) responsibility (1 total, 2 none, 3 partial, 0 missing, 9 incomplete)\n",
    "15. (CSOC) insurance company code\n",
    "16. (DCIR) year the car started circulating\n",
    "17. (DEPT) département where the car is registered\n",
    "18. (DNAI) year of birth of insuree\n",
    "19. (FDOS) claim processing code (1 done, 2 in process, 0 missing)\n",
    "20. (FRAN) 1 if French car but not Citroën-Peugeot-Renault, 0 otherwise\n",
    "21. (GROUP) group: from 1 to 6\n",
    "22. (GSIN) guarantee activated by claim (1 compulsory or comprehensive, 2 theft, 3 fire, 4 windows, 9 missing, 0 ???)\n",
    "23. (HOM) 1 if insuree is male, otherwise 0\n",
    "24. (INDACCI) 1 if no accident at fault, 0 otherwise\n",
    "25. (ITAL) Italian car: 1 yes, 0 no\n",
    "26. (KVEH) number of cars in claim, including the insuree's (0 missing, 9 incomplete)\n",
    "27. (LIEU) département of claim (99 incomplete, 0 missing)\n",
    "28. (MFDO) deductible as percentage of claim value, or as amount if fixed (0 missing)\n",
    "29. (MFVO) deductible for theft (0 missing)\n",
    "30. (MIDA) reimbursement for claim (0 missing)\n",
    "31. (MODR) how the claim was paid (1 interinsurers, 2 no, 0 missing)\n",
    "32. (MSIN) the total amount of the claim (0 missing)\n",
    "33. (MTRC) the amount covered by the compulsory guarantee (0 missing)\n",
    "34. (NATS) the nature of the claim (1 material, 2 personal or both, 0 missing)\n",
    "35. (NBACCI) the number of claims at fault\n",
    "36. (NORD) an identifier\n",
    "37. (NSEQ) another one\n",
    "38. (PBAS) the basic premium (= [45]/[51]*100)\n",
    "39. (PEUG) Peugeot car: 1 yes, 0 no\n",
    "40. (PFIS) car fiscal horsepowers (3 a 8)\n",
    "41. (PNET) total premium, after bonus/malus, net of taxes\n",
    "42. (POID) percentage of the year covered by insurance\n",
    "43. (PROF) occupation (1 shopowner or crafts, 2 salaried, 3 civil servant, 4 farmer, 5 others, 6 retired, 7 other w/o a job, 8 unknown)\n",
    "44. (QSIN) number of claims in the year (9 missing)\n",
    "45. (RCDR) premium for compulsory coverage after bonus, net of taxes\n",
    "46. (REG) region (1 is Bourgogne-Franche Comté, 2 is Bassin Parisien W, 3 is PACA, 4 is Centre W, 5 is Grand W, 6 is SW, 7 is Ile de France, 8 is Rhône-Alpes, 9 is Est, 10 is Nord)\n",
    "47. (RENA) Renault car: 1 yes, 0 no\n",
    "48. (SCLA) class of car (how expensive, 0 to 4)\n",
    "49. (SEXE) gender (1 male, 2 female)\n",
    "50. (SGRP) real group of the car (4 to 13)\n",
    "51. (TMAJ) bonus/malus (basis 100)\n",
    "52. (TRACIR) based on [16]; is 11 if car started circulating before 1978, 10 if in 1978 or 1979, else 1989-[16]\n",
    "53. (TRAGE) age category, based on [2]. Is 0 if [2] is 18 or 19, 1 to 4 if 20 to 23, 5 if 24 or 25, 6 if 26 to 30, 7 if 31 to 45, then 8.\n",
    "54. (TRAPBAS) category of basic premium, based on [38]. 1 to 6 with breaks at 1,100; 1,400; 1,800; 2,300; and 2,900\n",
    "55. (TRES) percentage at fault if shared responsibility (0 missing)\n",
    "56. (USAG) main usage of car is 1: work, 2: home-to-work, 3: private use, 4: unknown\n",
    "57. (ZONE) 2 to 6 from most rural to most urban."
   ]
  },
  {
   "cell_type": "markdown",
   "metadata": {},
   "source": [
    "We read the data and we convert the variables to their correct types:"
   ]
  },
  {
   "cell_type": "code",
   "execution_count": null,
   "metadata": {},
   "outputs": [],
   "source": [
    "data_path = Path(\"../Datasets\")\n",
    "data_file = \"j88.txt\"\n",
    "names_vars = [\n",
    "    'Age below 25', 'Age', 'Age of driver', 'German car', 'American car', 'Age of License',\n",
    "              'Type of deductible', 'Theft deductible', 'Compulsory coverage', 'Comprehensive coverage',\n",
    "              'Responsibility', 'Citroën', 'Driver is insuree', 'No accident', \n",
    "                'Responsibility code', 'Company',\n",
    "              'Date car', 'Department registered', 'Year birth insuree', 'Claim processing',\n",
    "              'Other french car', 'Group', 'Guarantee in claim', 'Male', 'Not at fault', \n",
    "              'Italian car', 'Number cars in claim', 'Department claim', 'Deductible damages',\n",
    "              'Deductible theft', 'Reimbursement', 'Settlement', 'Total cost', 'Compulsory cost', 'Nature claim', \n",
    "              'Number claims at fault', 'Identifier 1', 'Identifier 2', 'Basic premium',\n",
    "              'Peugeot', 'Fiscal HP', 'Total premium', 'Duration', 'Occupation', 'Number claims',\n",
    "              'Compulsory premium', 'Region', 'Renault', 'Class car', 'Gender', 'Real group',\n",
    "              'Bonus Malus', 'Age category car', 'Age category insuree', 'Basic premium category', \n",
    "              'Shared responsibility', 'Car use', 'Zone'\n",
    "             ]\n",
    "data88 = pd.read_csv(data_path / data_file, delimiter = ' ', header=None)\n",
    "data88.columns = names_vars\n",
    "for float_col in ['Deductible damages', 'Deductible theft', 'Reimbursement', 'Total cost', 'Compulsory cost',\n",
    "                 'Total premium', 'Bonus Malus']:\n",
    "    data88[float_col]=data88[float_col].astype(float)"
   ]
  },
  {
   "cell_type": "markdown",
   "metadata": {},
   "source": [
    "## selecting  variables\n",
    "We will work with a subset of the variables. Our endogeneous variables will be `Comprehensive coverage` for the choice of contract $y_1$ and `Not at fault` for the occurrence of a claim at fault $y_2$.\n",
    "We also use the variable `Duration` to weight the observations, and 9 categorical covariates."
   ]
  },
  {
   "cell_type": "code",
   "execution_count": null,
   "metadata": {},
   "outputs": [
    {
     "name": "stdout",
     "output_type": "stream",
     "text": [
      "<class 'pandas.core.frame.DataFrame'>\n",
      "RangeIndex: 6333 entries, 0 to 6332\n",
      "Data columns (total 9 columns):\n",
      " #   Column                Non-Null Count  Dtype   \n",
      "---  ------                --------------  -----   \n",
      " 0   Group                 6333 non-null   category\n",
      " 1   Male                  6333 non-null   category\n",
      " 2   Occupation            6333 non-null   category\n",
      " 3   Region                6333 non-null   category\n",
      " 4   Renault               6333 non-null   category\n",
      " 5   Age category car      6333 non-null   category\n",
      " 6   Age category insuree  6333 non-null   category\n",
      " 7   Car use               6333 non-null   category\n",
      " 8   Zone                  6333 non-null   category\n",
      "dtypes: category(9)\n",
      "memory usage: 58.1 KB\n"
     ]
    }
   ],
   "source": [
    "y1 = (data88['Comprehensive coverage'] > 0)\n",
    "y2 = (data88['Not at fault'] == 0)\n",
    "w = data88['Duration']\n",
    "\n",
    "group = data88['Group']\n",
    "hom = data88['Male']\n",
    "prof = data88['Occupation'];\n",
    "reg = data88['Region']\n",
    "rena = data88['Renault']\n",
    "tracir = data88['Age category car']\n",
    "trage = data88['Age category insuree']\n",
    "usag = data88['Car use']\n",
    "zone = data88['Zone']\n",
    "\n",
    "X = data88[['Group', 'Male', 'Occupation', 'Region', 'Renault', 'Age category car',\n",
    "           'Age category insuree', 'Car use', 'Zone']].astype('category')\n",
    "\n",
    "X.info()"
   ]
  },
  {
   "cell_type": "code",
   "execution_count": null,
   "metadata": {},
   "outputs": [
    {
     "data": {
      "text/html": [
       "<div>\n",
       "<style scoped>\n",
       "    .dataframe tbody tr th:only-of-type {\n",
       "        vertical-align: middle;\n",
       "    }\n",
       "\n",
       "    .dataframe tbody tr th {\n",
       "        vertical-align: top;\n",
       "    }\n",
       "\n",
       "    .dataframe thead th {\n",
       "        text-align: right;\n",
       "    }\n",
       "</style>\n",
       "<table border=\"1\" class=\"dataframe\">\n",
       "  <thead>\n",
       "    <tr style=\"text-align: right;\">\n",
       "      <th></th>\n",
       "      <th>Group</th>\n",
       "      <th>Male</th>\n",
       "      <th>Occupation</th>\n",
       "      <th>Region</th>\n",
       "      <th>Renault</th>\n",
       "      <th>Age category car</th>\n",
       "      <th>Age category insuree</th>\n",
       "      <th>Car use</th>\n",
       "      <th>Zone</th>\n",
       "    </tr>\n",
       "  </thead>\n",
       "  <tbody>\n",
       "    <tr>\n",
       "      <th>count</th>\n",
       "      <td>6333</td>\n",
       "      <td>6333</td>\n",
       "      <td>6333</td>\n",
       "      <td>6333</td>\n",
       "      <td>6333</td>\n",
       "      <td>6333</td>\n",
       "      <td>6333</td>\n",
       "      <td>6333</td>\n",
       "      <td>6333</td>\n",
       "    </tr>\n",
       "    <tr>\n",
       "      <th>unique</th>\n",
       "      <td>6</td>\n",
       "      <td>2</td>\n",
       "      <td>8</td>\n",
       "      <td>10</td>\n",
       "      <td>2</td>\n",
       "      <td>12</td>\n",
       "      <td>9</td>\n",
       "      <td>4</td>\n",
       "      <td>5</td>\n",
       "    </tr>\n",
       "    <tr>\n",
       "      <th>top</th>\n",
       "      <td>3</td>\n",
       "      <td>1</td>\n",
       "      <td>2</td>\n",
       "      <td>5</td>\n",
       "      <td>0</td>\n",
       "      <td>11</td>\n",
       "      <td>1</td>\n",
       "      <td>2</td>\n",
       "      <td>6</td>\n",
       "    </tr>\n",
       "    <tr>\n",
       "      <th>freq</th>\n",
       "      <td>1272</td>\n",
       "      <td>3971</td>\n",
       "      <td>2865</td>\n",
       "      <td>1019</td>\n",
       "      <td>5046</td>\n",
       "      <td>1100</td>\n",
       "      <td>1354</td>\n",
       "      <td>2876</td>\n",
       "      <td>2626</td>\n",
       "    </tr>\n",
       "  </tbody>\n",
       "</table>\n",
       "</div>"
      ],
      "text/plain": [
       "        Group  Male  Occupation  Region  Renault  Age category car  \\\n",
       "count    6333  6333        6333    6333     6333              6333   \n",
       "unique      6     2           8      10        2                12   \n",
       "top         3     1           2       5        0                11   \n",
       "freq     1272  3971        2865    1019     5046              1100   \n",
       "\n",
       "        Age category insuree  Car use  Zone  \n",
       "count                   6333     6333  6333  \n",
       "unique                     9        4     5  \n",
       "top                        1        2     6  \n",
       "freq                    1354     2876  2626  "
      ]
     },
     "execution_count": null,
     "metadata": {},
     "output_type": "execute_result"
    }
   ],
   "source": [
    "X.describe()"
   ]
  },
  {
   "cell_type": "code",
   "execution_count": null,
   "metadata": {},
   "outputs": [],
   "source": [
    "#| hide\n",
    "import nbdev; nbdev.nbdev_export()"
   ]
  },
  {
   "cell_type": "code",
   "execution_count": null,
   "metadata": {},
   "outputs": [],
   "source": []
  }
 ],
 "metadata": {
  "kernelspec": {
   "display_name": "Python 3 (ipykernel)",
   "language": "python",
   "name": "python3"
  }
 },
 "nbformat": 4,
 "nbformat_minor": 4
}
